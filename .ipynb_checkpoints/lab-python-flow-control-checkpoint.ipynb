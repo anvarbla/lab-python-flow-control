{
 "cells": [
  {
   "cell_type": "markdown",
   "id": "d3bfc191-8885-42ee-b0a0-bbab867c6f9f",
   "metadata": {
    "tags": []
   },
   "source": [
    "# Lab | Flow Control"
   ]
  },
  {
   "cell_type": "markdown",
   "id": "3851fcd1-cf98-4653-9c89-e003b7ec9400",
   "metadata": {},
   "source": [
    "## Exercise: Managing Customer Orders Optimized\n",
    "\n",
    "In the last lab, you were starting an online store that sells various products. To ensure smooth operations, you developed a program that manages customer orders and inventory.\n",
    "\n",
    "You did so without using flow control. Let's go a step further and improve this code.\n",
    "\n",
    "Follow the steps below to complete the exercise:\n",
    "\n",
    "1. Look at your code from the lab data structures, and improve repeated code with loops.\n",
    "\n",
    "2. Instead of asking the user to input the name of three products that a customer wants to order, do the following:\n",
    "    \n",
    "    a. Prompt the user to enter the name of a product that a customer wants to order.\n",
    "    \n",
    "    b. Add the product name to the \"customer_orders\" set.\n",
    "    \n",
    "    c. Ask the user if they want to add another product (yes/no).\n",
    "    \n",
    "    d. Continue the loop until the user does not want to add another product.\n",
    "\n",
    "3. Instead of updating the inventory by subtracting 1 from the quantity of each product, only do it for  the products that were ordered (those in \"customer_orders\")."
   ]
  },
  {
   "cell_type": "code",
   "execution_count": 13,
   "id": "72200d3b-b1b6-433e-9b87-886198c5f5cd",
   "metadata": {},
   "outputs": [
    {
     "name": "stdin",
     "output_type": "stream",
     "text": [
      "Enter de quantity for t-shirt 2\n",
      "Enter de quantity for mug 2\n",
      "Enter de quantity for hat 2\n",
      "Enter de quantity for book 2\n",
      "Enter de quantity for keychain 2\n",
      "What product you want to buy: mug\n",
      "Do you wanna buy another product. Write yes or no yes\n",
      "What product you want to buy: book\n",
      "Do you wanna buy another product. Write yes or no no\n"
     ]
    },
    {
     "name": "stdout",
     "output_type": "stream",
     "text": [
      "Total Products Ordered: 2\n",
      "Percentage of Products Ordered: 40.0%\n",
      "{'t-shirt': 2, 'mug': 1, 'hat': 2, 'book': 1, 'keychain': 2}\n"
     ]
    }
   ],
   "source": [
    "#Last lab code:\n",
    "#Questions 1, 2 and 3\n",
    "products=[\"t-shirt\",\"mug\",\"hat\",\"book\",\"keychain\"]\n",
    "inventory={}\n",
    "\n",
    "for product in products:\n",
    "    quantity=input(f\"Enter de quantity for {product}\")\n",
    "\n",
    "    inventory [product]=int(quantity)\n",
    "\n",
    "#Question 4, 5 and 6\n",
    "customer_orders=set()\n",
    "product_order=input(\"What product you want to buy:\").lower()\n",
    "customer_orders.add(product_order)\n",
    "\n",
    "buy_another_product=input(\"Do you wanna buy another product. Write yes or no\").lower()\n",
    "while buy_another_product ==\"yes\":\n",
    "    product_order=input(\"What product you want to buy:\")\n",
    "    customer_orders.add(product_order) \n",
    "    buy_another_product=input(\"Do you wanna buy another product. Write yes or no\").lower()\n",
    "    \n",
    "customer_orders\n",
    "\n",
    "#Question 7 and 8\n",
    "total_products_ordered =len(customer_orders)\n",
    "available_products=(total_products_ordered)/len(products) * 100\n",
    "\n",
    "order_status=(total_products_ordered,available_products)\n",
    "\n",
    "order_status\n",
    "\n",
    "print(f\"Total Products Ordered: {total_products_ordered}\")\n",
    "print(f\"Percentage of Products Ordered: {available_products}%\")\n",
    "\n",
    "#Question 9 and 10\n",
    "for product in customer_orders:\n",
    "    if product in inventory and inventory[product] > 0:\n",
    "        inventory[product] -= 1\n",
    "\n",
    "print(inventory)\n"
   ]
  },
  {
   "cell_type": "code",
   "execution_count": null,
   "id": "181a0785-6a5c-4e20-8e3f-4852ad7fdf2b",
   "metadata": {},
   "outputs": [],
   "source": []
  }
 ],
 "metadata": {
  "kernelspec": {
   "display_name": "Python [conda env:base] *",
   "language": "python",
   "name": "conda-base-py"
  },
  "language_info": {
   "codemirror_mode": {
    "name": "ipython",
    "version": 3
   },
   "file_extension": ".py",
   "mimetype": "text/x-python",
   "name": "python",
   "nbconvert_exporter": "python",
   "pygments_lexer": "ipython3",
   "version": "3.12.7"
  }
 },
 "nbformat": 4,
 "nbformat_minor": 5
}
